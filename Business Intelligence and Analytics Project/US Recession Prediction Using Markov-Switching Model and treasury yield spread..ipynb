{
 "cells": [
  {
   "cell_type": "markdown",
   "id": "06959869",
   "metadata": {},
   "source": [
    "### TMU ITM618 Fall 2022 - Group Project"
   ]
  },
  {
   "cell_type": "markdown",
   "id": "5d3695d4",
   "metadata": {},
   "source": [
    "Your task is to develop a series of research hypotheses to predict recession based on theory or past empirical evidence and then apply some of the techniques covered in class to such data for testing.\n",
    "\n",
    "Smoothed recession probabilities for the United States are obtained from a dynamic-factor Markov-switching model applied to four monthly coincident variables: non-farm payroll employment, the index of industrial production, real personal income excluding transfer payments, and real manufacturing and trade sales.\n",
    "\n",
    "You can use the 10 Year-3 Month Treasury Yield Spread, which is the difference between the ten-year treasury rate and the three-month treasury rate. This spread is widely used as a gauge to study the yield curve. A 10-year-3-month treasury spread that approaches 0 signifies a \"flattening\" yield curve. Furthermore, a negative 10-year-3-month spread has historically been viewed as a precursor or predictor of a recessionary period. The New York Fed uses the rate in a model to predict recessions 2 to 6 quarters ahead."
   ]
  },
  {
   "cell_type": "markdown",
   "id": "1a440c02",
   "metadata": {},
   "source": [
    "### Data Set"
   ]
  },
  {
   "cell_type": "markdown",
   "id": "bb8ee616",
   "metadata": {},
   "source": [
    "Students are encouraged to collect data by themselves. Students can collect data from any sources\n",
    "such as the following, but not limit to:\n",
    "* TMU Library\n",
    "* Yahoo Finance\n",
    "* Or any other source"
   ]
  },
  {
   "cell_type": "markdown",
   "id": "98f5d836",
   "metadata": {},
   "source": [
    "### Analysis and Report"
   ]
  },
  {
   "cell_type": "markdown",
   "id": "e3e0b334",
   "metadata": {},
   "source": [
    "Students should work closely in a group on data collection, data analysis and result interpretation, report writing, etc. In the project report, students are supposed to describe the results and conclusion of their analysis. Keep in mind that plots, tables and other visual representations of data are useful in conveying your conclusions. In addition, you may want to include the following parts in your reports.\n",
    "\n",
    "Questions/Hypotheses: Write one or multiple questions or hypotheses you want to explore with the data sets. After each question, state your expected answers, which may be different from your data analysis because you have not yet analyzed the data.\n",
    "\n",
    "Data Description: Describe the data sets. What is the data, e.g., variables and results? How was the data collected? Briefly summarize the data. Provide the URL link if available.\n",
    "\n",
    "Methodologies: Write a complete, clear description of the analysis you performed. This should be sufficient for someone else to write an R program to reproduce your results. It should also likely be helpful to people who read your code later. This section should tie your computations to your questions/hypotheses, indicating exactly what results would lead you to what conclusion. You may want to provide the key statistics, e.g., t-statistic, z-statistic, p-values, R2 and the adjusted R2, etc.\n",
    "\n",
    "Results and Conclusion: Discuss your results. Focus in particular on the results that are most interesting, surprising, or important. Discuss the consequences or implications. Interpret the results: if the answers are unexpected, then see whether you can find an explanation for them, such as an external factor that your analysis did not account for. You may also want to make prediction for new scenarios.\n",
    "\n",
    "Appendix: Put plots, tables, technical details or other results in appendix if necessary."
   ]
  },
  {
   "cell_type": "markdown",
   "id": "599dcb44",
   "metadata": {},
   "source": [
    "### Presentation"
   ]
  },
  {
   "cell_type": "markdown",
   "id": "e8307c13",
   "metadata": {},
   "source": [
    "Each group should select one or multiple team members to present their projects in class. Each presentation should be no longer than 10 minutes. It is encouraged to use slides. The slide deck should summarize the main points of your project, including motivation, research questions, and results using, using Guy Kawasaki's presentation framework.\n",
    "\n",
    "During the presentations, all students from not-presenting groups should actively ask questions. Each member of the presenting group, not only the presenters, can answer the questions or give comments."
   ]
  },
  {
   "cell_type": "markdown",
   "id": "9f79b023",
   "metadata": {},
   "source": [
    "### Project Submission"
   ]
  },
  {
   "cell_type": "markdown",
   "id": "0a79b67c",
   "metadata": {},
   "source": [
    "The group will submit once via D2L. Your submission should include a Jupyter notebook that includes a project report, Python script, and another zip file that includes the data set and the slides. It is suggested that the project reports should be 500-word maximum, excluding the appendix."
   ]
  },
  {
   "cell_type": "code",
   "execution_count": 31,
   "id": "fb49aff6",
   "metadata": {
    "scrolled": true
   },
   "outputs": [
    {
     "name": "stdout",
     "output_type": "stream",
     "text": [
      "Requirement already satisfied: stats-can in c:\\users\\amray\\anaconda3\\lib\\site-packages (2.5.1)\n",
      "Requirement already satisfied: tqdm<5.0.0,>=4.48.0 in c:\\users\\amray\\anaconda3\\lib\\site-packages (from stats-can) (4.64.0)\n",
      "Requirement already satisfied: requests<3.0,>=2.20 in c:\\users\\amray\\anaconda3\\lib\\site-packages (from stats-can) (2.27.1)\n",
      "Requirement already satisfied: pandas<2.0.0,>=1.1.0 in c:\\users\\amray\\anaconda3\\lib\\site-packages (from stats-can) (1.4.2)\n",
      "Requirement already satisfied: tables<4.0.0,>=3.6.1 in c:\\users\\amray\\anaconda3\\lib\\site-packages (from stats-can) (3.6.1)\n",
      "Requirement already satisfied: h5py<4.0,>=2.10 in c:\\users\\amray\\anaconda3\\lib\\site-packages (from stats-can) (3.6.0)\n",
      "Requirement already satisfied: numpy>=1.14.5 in c:\\users\\amray\\anaconda3\\lib\\site-packages (from h5py<4.0,>=2.10->stats-can) (1.21.5)\n",
      "Requirement already satisfied: python-dateutil>=2.8.1 in c:\\users\\amray\\anaconda3\\lib\\site-packages (from pandas<2.0.0,>=1.1.0->stats-can) (2.8.2)\n",
      "Requirement already satisfied: pytz>=2020.1 in c:\\users\\amray\\anaconda3\\lib\\site-packages (from pandas<2.0.0,>=1.1.0->stats-can) (2021.3)\n",
      "Requirement already satisfied: six>=1.5 in c:\\users\\amray\\anaconda3\\lib\\site-packages (from python-dateutil>=2.8.1->pandas<2.0.0,>=1.1.0->stats-can) (1.16.0)\n",
      "Requirement already satisfied: certifi>=2017.4.17 in c:\\users\\amray\\anaconda3\\lib\\site-packages (from requests<3.0,>=2.20->stats-can) (2021.10.8)\n",
      "Requirement already satisfied: urllib3<1.27,>=1.21.1 in c:\\users\\amray\\anaconda3\\lib\\site-packages (from requests<3.0,>=2.20->stats-can) (1.26.9)\n",
      "Requirement already satisfied: idna<4,>=2.5 in c:\\users\\amray\\anaconda3\\lib\\site-packages (from requests<3.0,>=2.20->stats-can) (3.3)\n",
      "Requirement already satisfied: charset-normalizer~=2.0.0 in c:\\users\\amray\\anaconda3\\lib\\site-packages (from requests<3.0,>=2.20->stats-can) (2.0.4)\n",
      "Requirement already satisfied: numexpr>=2.6.2 in c:\\users\\amray\\anaconda3\\lib\\site-packages (from tables<4.0.0,>=3.6.1->stats-can) (2.8.1)\n",
      "Requirement already satisfied: packaging in c:\\users\\amray\\anaconda3\\lib\\site-packages (from numexpr>=2.6.2->tables<4.0.0,>=3.6.1->stats-can) (21.3)\n",
      "Requirement already satisfied: colorama in c:\\users\\amray\\anaconda3\\lib\\site-packages (from tqdm<5.0.0,>=4.48.0->stats-can) (0.4.4)\n",
      "Requirement already satisfied: pyparsing!=3.0.5,>=2.0.2 in c:\\users\\amray\\anaconda3\\lib\\site-packages (from packaging->numexpr>=2.6.2->tables<4.0.0,>=3.6.1->stats-can) (3.0.4)\n",
      "Note: you may need to restart the kernel to use updated packages.\n"
     ]
    }
   ],
   "source": [
    "pip install stats-can"
   ]
  },
  {
   "cell_type": "code",
   "execution_count": 32,
   "id": "b2f179f1",
   "metadata": {},
   "outputs": [
    {
     "name": "stdout",
     "output_type": "stream",
     "text": [
      "Requirement already satisfied: yfinance==0.1.86 in c:\\users\\amray\\anaconda3\\lib\\site-packages (0.1.86)\n",
      "Requirement already satisfied: multitasking>=0.0.7 in c:\\users\\amray\\anaconda3\\lib\\site-packages (from yfinance==0.1.86) (0.0.11)\n",
      "Requirement already satisfied: numpy>=1.15 in c:\\users\\amray\\anaconda3\\lib\\site-packages (from yfinance==0.1.86) (1.21.5)\n",
      "Requirement already satisfied: appdirs>=1.4.4 in c:\\users\\amray\\anaconda3\\lib\\site-packages (from yfinance==0.1.86) (1.4.4)\n",
      "Requirement already satisfied: pandas>=0.24.0 in c:\\users\\amray\\anaconda3\\lib\\site-packages (from yfinance==0.1.86) (1.4.2)\n",
      "Requirement already satisfied: requests>=2.26 in c:\\users\\amray\\anaconda3\\lib\\site-packages (from yfinance==0.1.86) (2.27.1)\n",
      "Requirement already satisfied: lxml>=4.5.1 in c:\\users\\amray\\anaconda3\\lib\\site-packages (from yfinance==0.1.86) (4.8.0)\n",
      "Requirement already satisfied: pytz>=2020.1 in c:\\users\\amray\\anaconda3\\lib\\site-packages (from pandas>=0.24.0->yfinance==0.1.86) (2021.3)\n",
      "Requirement already satisfied: python-dateutil>=2.8.1 in c:\\users\\amray\\anaconda3\\lib\\site-packages (from pandas>=0.24.0->yfinance==0.1.86) (2.8.2)\n",
      "Requirement already satisfied: six>=1.5 in c:\\users\\amray\\anaconda3\\lib\\site-packages (from python-dateutil>=2.8.1->pandas>=0.24.0->yfinance==0.1.86) (1.16.0)\n",
      "Requirement already satisfied: urllib3<1.27,>=1.21.1 in c:\\users\\amray\\anaconda3\\lib\\site-packages (from requests>=2.26->yfinance==0.1.86) (1.26.9)\n",
      "Requirement already satisfied: idna<4,>=2.5 in c:\\users\\amray\\anaconda3\\lib\\site-packages (from requests>=2.26->yfinance==0.1.86) (3.3)\n",
      "Requirement already satisfied: charset-normalizer~=2.0.0 in c:\\users\\amray\\anaconda3\\lib\\site-packages (from requests>=2.26->yfinance==0.1.86) (2.0.4)\n",
      "Requirement already satisfied: certifi>=2017.4.17 in c:\\users\\amray\\anaconda3\\lib\\site-packages (from requests>=2.26->yfinance==0.1.86) (2021.10.8)\n",
      "Note: you may need to restart the kernel to use updated packages.\n"
     ]
    }
   ],
   "source": [
    "pip install yfinance==0.1.86"
   ]
  },
  {
   "cell_type": "code",
   "execution_count": 60,
   "id": "129c2966",
   "metadata": {
    "scrolled": true
   },
   "outputs": [],
   "source": [
    "from datetime import datetime\n",
    "\n",
    "import csv\n",
    "import matplotlib as mpl\n",
    "import matplotlib.pyplot as plt\n",
    "import numpy as np\n",
    "import os\n",
    "import pandas as pd\n",
    "import seaborn as sns\n",
    "import scipy as sp\n",
    "import scipy.stats as stats\n",
    "import stats_can\n",
    "import statsmodels.api as sm\n",
    "\n",
    "import yfinance as yf"
   ]
  },
  {
   "cell_type": "code",
   "execution_count": 34,
   "id": "cdebafe7",
   "metadata": {},
   "outputs": [
    {
     "data": {
      "text/plain": [
       "yfinance.Ticker object <VOO>"
      ]
     },
     "execution_count": 34,
     "metadata": {},
     "output_type": "execute_result"
    }
   ],
   "source": [
    "SP= yf.Ticker(\"VOO\")\n",
    "SP\n",
    "\n",
    "#leading up to, and during a recession, prices of stocks tend to decline ... add on to this \n",
    "#for this reason, we chose to use the S&P500 to represent an overview of the stock market. \n",
    "#Since 1950, the average decline for the S&P 500 during a recession is about 29%, \n",
    "#he said. So far this year, the S&P 500 has fallen nearly 24%."
   ]
  },
  {
   "cell_type": "code",
   "execution_count": 35,
   "id": "e2d13b3d",
   "metadata": {},
   "outputs": [
    {
     "data": {
      "text/html": [
       "<div>\n",
       "<style scoped>\n",
       "    .dataframe tbody tr th:only-of-type {\n",
       "        vertical-align: middle;\n",
       "    }\n",
       "\n",
       "    .dataframe tbody tr th {\n",
       "        vertical-align: top;\n",
       "    }\n",
       "\n",
       "    .dataframe thead th {\n",
       "        text-align: right;\n",
       "    }\n",
       "</style>\n",
       "<table border=\"1\" class=\"dataframe\">\n",
       "  <thead>\n",
       "    <tr style=\"text-align: right;\">\n",
       "      <th></th>\n",
       "      <th>Open</th>\n",
       "      <th>High</th>\n",
       "      <th>Low</th>\n",
       "      <th>Close</th>\n",
       "      <th>Volume</th>\n",
       "      <th>Dividends</th>\n",
       "      <th>Stock Splits</th>\n",
       "    </tr>\n",
       "    <tr>\n",
       "      <th>Date</th>\n",
       "      <th></th>\n",
       "      <th></th>\n",
       "      <th></th>\n",
       "      <th></th>\n",
       "      <th></th>\n",
       "      <th></th>\n",
       "      <th></th>\n",
       "    </tr>\n",
       "  </thead>\n",
       "  <tbody>\n",
       "    <tr>\n",
       "      <th>2022-01-03 00:00:00-05:00</th>\n",
       "      <td>432.774938</td>\n",
       "      <td>434.099160</td>\n",
       "      <td>430.511916</td>\n",
       "      <td>434.079407</td>\n",
       "      <td>6017300</td>\n",
       "      <td>0.0</td>\n",
       "      <td>0</td>\n",
       "    </tr>\n",
       "    <tr>\n",
       "      <th>2022-01-04 00:00:00-05:00</th>\n",
       "      <td>435.393755</td>\n",
       "      <td>436.065773</td>\n",
       "      <td>432.073321</td>\n",
       "      <td>433.901550</td>\n",
       "      <td>6262200</td>\n",
       "      <td>0.0</td>\n",
       "      <td>0</td>\n",
       "    </tr>\n",
       "    <tr>\n",
       "      <th>2022-01-05 00:00:00-05:00</th>\n",
       "      <td>433.614926</td>\n",
       "      <td>434.237515</td>\n",
       "      <td>425.462041</td>\n",
       "      <td>425.590515</td>\n",
       "      <td>7539600</td>\n",
       "      <td>0.0</td>\n",
       "      <td>0</td>\n",
       "    </tr>\n",
       "    <tr>\n",
       "      <th>2022-01-06 00:00:00-05:00</th>\n",
       "      <td>425.135977</td>\n",
       "      <td>427.734993</td>\n",
       "      <td>422.863033</td>\n",
       "      <td>425.017365</td>\n",
       "      <td>7971500</td>\n",
       "      <td>0.0</td>\n",
       "      <td>0</td>\n",
       "    </tr>\n",
       "    <tr>\n",
       "      <th>2022-01-07 00:00:00-05:00</th>\n",
       "      <td>425.145786</td>\n",
       "      <td>426.282243</td>\n",
       "      <td>422.171239</td>\n",
       "      <td>423.544861</td>\n",
       "      <td>6157500</td>\n",
       "      <td>0.0</td>\n",
       "      <td>0</td>\n",
       "    </tr>\n",
       "    <tr>\n",
       "      <th>...</th>\n",
       "      <td>...</td>\n",
       "      <td>...</td>\n",
       "      <td>...</td>\n",
       "      <td>...</td>\n",
       "      <td>...</td>\n",
       "      <td>...</td>\n",
       "      <td>...</td>\n",
       "    </tr>\n",
       "    <tr>\n",
       "      <th>2022-09-30 00:00:00-04:00</th>\n",
       "      <td>332.570007</td>\n",
       "      <td>336.190002</td>\n",
       "      <td>328.119995</td>\n",
       "      <td>328.299988</td>\n",
       "      <td>7736600</td>\n",
       "      <td>0.0</td>\n",
       "      <td>0</td>\n",
       "    </tr>\n",
       "    <tr>\n",
       "      <th>2022-10-03 00:00:00-04:00</th>\n",
       "      <td>331.790009</td>\n",
       "      <td>338.660004</td>\n",
       "      <td>330.100006</td>\n",
       "      <td>336.980011</td>\n",
       "      <td>5739000</td>\n",
       "      <td>0.0</td>\n",
       "      <td>0</td>\n",
       "    </tr>\n",
       "    <tr>\n",
       "      <th>2022-10-04 00:00:00-04:00</th>\n",
       "      <td>342.140015</td>\n",
       "      <td>347.329987</td>\n",
       "      <td>342.130005</td>\n",
       "      <td>347.209991</td>\n",
       "      <td>5110000</td>\n",
       "      <td>0.0</td>\n",
       "      <td>0</td>\n",
       "    </tr>\n",
       "    <tr>\n",
       "      <th>2022-10-05 00:00:00-04:00</th>\n",
       "      <td>343.119995</td>\n",
       "      <td>348.640015</td>\n",
       "      <td>340.859985</td>\n",
       "      <td>346.609985</td>\n",
       "      <td>4755800</td>\n",
       "      <td>0.0</td>\n",
       "      <td>0</td>\n",
       "    </tr>\n",
       "    <tr>\n",
       "      <th>2022-10-06 00:00:00-04:00</th>\n",
       "      <td>345.179993</td>\n",
       "      <td>347.980011</td>\n",
       "      <td>342.489990</td>\n",
       "      <td>342.959991</td>\n",
       "      <td>3879600</td>\n",
       "      <td>0.0</td>\n",
       "      <td>0</td>\n",
       "    </tr>\n",
       "  </tbody>\n",
       "</table>\n",
       "<p>192 rows × 7 columns</p>\n",
       "</div>"
      ],
      "text/plain": [
       "                                 Open        High         Low       Close  \\\n",
       "Date                                                                        \n",
       "2022-01-03 00:00:00-05:00  432.774938  434.099160  430.511916  434.079407   \n",
       "2022-01-04 00:00:00-05:00  435.393755  436.065773  432.073321  433.901550   \n",
       "2022-01-05 00:00:00-05:00  433.614926  434.237515  425.462041  425.590515   \n",
       "2022-01-06 00:00:00-05:00  425.135977  427.734993  422.863033  425.017365   \n",
       "2022-01-07 00:00:00-05:00  425.145786  426.282243  422.171239  423.544861   \n",
       "...                               ...         ...         ...         ...   \n",
       "2022-09-30 00:00:00-04:00  332.570007  336.190002  328.119995  328.299988   \n",
       "2022-10-03 00:00:00-04:00  331.790009  338.660004  330.100006  336.980011   \n",
       "2022-10-04 00:00:00-04:00  342.140015  347.329987  342.130005  347.209991   \n",
       "2022-10-05 00:00:00-04:00  343.119995  348.640015  340.859985  346.609985   \n",
       "2022-10-06 00:00:00-04:00  345.179993  347.980011  342.489990  342.959991   \n",
       "\n",
       "                            Volume  Dividends  Stock Splits  \n",
       "Date                                                         \n",
       "2022-01-03 00:00:00-05:00  6017300        0.0             0  \n",
       "2022-01-04 00:00:00-05:00  6262200        0.0             0  \n",
       "2022-01-05 00:00:00-05:00  7539600        0.0             0  \n",
       "2022-01-06 00:00:00-05:00  7971500        0.0             0  \n",
       "2022-01-07 00:00:00-05:00  6157500        0.0             0  \n",
       "...                            ...        ...           ...  \n",
       "2022-09-30 00:00:00-04:00  7736600        0.0             0  \n",
       "2022-10-03 00:00:00-04:00  5739000        0.0             0  \n",
       "2022-10-04 00:00:00-04:00  5110000        0.0             0  \n",
       "2022-10-05 00:00:00-04:00  4755800        0.0             0  \n",
       "2022-10-06 00:00:00-04:00  3879600        0.0             0  \n",
       "\n",
       "[192 rows x 7 columns]"
      ]
     },
     "execution_count": 35,
     "metadata": {},
     "output_type": "execute_result"
    }
   ],
   "source": [
    "View = SP.history(start=\"2022-01-02\", end=\"2022-10-07\")\n",
    "View"
   ]
  },
  {
   "cell_type": "code",
   "execution_count": 36,
   "id": "4bffbe68",
   "metadata": {
    "scrolled": true
   },
   "outputs": [
    {
     "name": "stdout",
     "output_type": "stream",
     "text": [
      "[*********************100%***********************]  3 of 3 completed\n"
     ]
    },
    {
     "data": {
      "text/html": [
       "<div>\n",
       "<style scoped>\n",
       "    .dataframe tbody tr th:only-of-type {\n",
       "        vertical-align: middle;\n",
       "    }\n",
       "\n",
       "    .dataframe tbody tr th {\n",
       "        vertical-align: top;\n",
       "    }\n",
       "\n",
       "    .dataframe thead tr th {\n",
       "        text-align: left;\n",
       "    }\n",
       "\n",
       "    .dataframe thead tr:last-of-type th {\n",
       "        text-align: right;\n",
       "    }\n",
       "</style>\n",
       "<table border=\"1\" class=\"dataframe\">\n",
       "  <thead>\n",
       "    <tr>\n",
       "      <th></th>\n",
       "      <th colspan=\"3\" halign=\"left\">Adj Close</th>\n",
       "      <th colspan=\"3\" halign=\"left\">Close</th>\n",
       "      <th colspan=\"3\" halign=\"left\">High</th>\n",
       "      <th colspan=\"3\" halign=\"left\">Low</th>\n",
       "      <th colspan=\"3\" halign=\"left\">Open</th>\n",
       "      <th colspan=\"3\" halign=\"left\">Volume</th>\n",
       "    </tr>\n",
       "    <tr>\n",
       "      <th></th>\n",
       "      <th>NQ=F</th>\n",
       "      <th>VNQ</th>\n",
       "      <th>VOO</th>\n",
       "      <th>NQ=F</th>\n",
       "      <th>VNQ</th>\n",
       "      <th>VOO</th>\n",
       "      <th>NQ=F</th>\n",
       "      <th>VNQ</th>\n",
       "      <th>VOO</th>\n",
       "      <th>NQ=F</th>\n",
       "      <th>VNQ</th>\n",
       "      <th>VOO</th>\n",
       "      <th>NQ=F</th>\n",
       "      <th>VNQ</th>\n",
       "      <th>VOO</th>\n",
       "      <th>NQ=F</th>\n",
       "      <th>VNQ</th>\n",
       "      <th>VOO</th>\n",
       "    </tr>\n",
       "    <tr>\n",
       "      <th>Date</th>\n",
       "      <th></th>\n",
       "      <th></th>\n",
       "      <th></th>\n",
       "      <th></th>\n",
       "      <th></th>\n",
       "      <th></th>\n",
       "      <th></th>\n",
       "      <th></th>\n",
       "      <th></th>\n",
       "      <th></th>\n",
       "      <th></th>\n",
       "      <th></th>\n",
       "      <th></th>\n",
       "      <th></th>\n",
       "      <th></th>\n",
       "      <th></th>\n",
       "      <th></th>\n",
       "      <th></th>\n",
       "    </tr>\n",
       "  </thead>\n",
       "  <tbody>\n",
       "    <tr>\n",
       "      <th>2022-01-03</th>\n",
       "      <td>16485.50</td>\n",
       "      <td>112.530052</td>\n",
       "      <td>434.079407</td>\n",
       "      <td>16485.50</td>\n",
       "      <td>115.099998</td>\n",
       "      <td>439.250000</td>\n",
       "      <td>16508.00</td>\n",
       "      <td>116.239998</td>\n",
       "      <td>439.269989</td>\n",
       "      <td>16292.00</td>\n",
       "      <td>113.459999</td>\n",
       "      <td>435.640015</td>\n",
       "      <td>16356.00</td>\n",
       "      <td>116.209999</td>\n",
       "      <td>437.929993</td>\n",
       "      <td>513549</td>\n",
       "      <td>9845000.0</td>\n",
       "      <td>6017300.0</td>\n",
       "    </tr>\n",
       "    <tr>\n",
       "      <th>2022-01-04</th>\n",
       "      <td>16275.75</td>\n",
       "      <td>112.393173</td>\n",
       "      <td>433.901550</td>\n",
       "      <td>16275.75</td>\n",
       "      <td>114.959999</td>\n",
       "      <td>439.070007</td>\n",
       "      <td>16564.00</td>\n",
       "      <td>116.080002</td>\n",
       "      <td>441.260010</td>\n",
       "      <td>16139.50</td>\n",
       "      <td>114.860001</td>\n",
       "      <td>437.220001</td>\n",
       "      <td>16497.75</td>\n",
       "      <td>115.419998</td>\n",
       "      <td>440.579987</td>\n",
       "      <td>669527</td>\n",
       "      <td>5330700.0</td>\n",
       "      <td>6262200.0</td>\n",
       "    </tr>\n",
       "    <tr>\n",
       "      <th>2022-01-05</th>\n",
       "      <td>15766.50</td>\n",
       "      <td>109.176643</td>\n",
       "      <td>425.590515</td>\n",
       "      <td>15766.50</td>\n",
       "      <td>111.669998</td>\n",
       "      <td>430.660004</td>\n",
       "      <td>16269.00</td>\n",
       "      <td>114.800003</td>\n",
       "      <td>439.410004</td>\n",
       "      <td>15752.75</td>\n",
       "      <td>111.550003</td>\n",
       "      <td>430.529999</td>\n",
       "      <td>16265.00</td>\n",
       "      <td>114.760002</td>\n",
       "      <td>438.779999</td>\n",
       "      <td>769790</td>\n",
       "      <td>6928300.0</td>\n",
       "      <td>7539600.0</td>\n",
       "    </tr>\n",
       "    <tr>\n",
       "      <th>2022-01-06</th>\n",
       "      <td>15759.00</td>\n",
       "      <td>109.274399</td>\n",
       "      <td>425.017365</td>\n",
       "      <td>15759.00</td>\n",
       "      <td>111.769997</td>\n",
       "      <td>430.079987</td>\n",
       "      <td>15895.75</td>\n",
       "      <td>112.220001</td>\n",
       "      <td>432.829987</td>\n",
       "      <td>15598.50</td>\n",
       "      <td>110.599998</td>\n",
       "      <td>427.899994</td>\n",
       "      <td>15763.75</td>\n",
       "      <td>111.809998</td>\n",
       "      <td>430.200012</td>\n",
       "      <td>802950</td>\n",
       "      <td>5974500.0</td>\n",
       "      <td>7971500.0</td>\n",
       "    </tr>\n",
       "    <tr>\n",
       "      <th>2022-01-07</th>\n",
       "      <td>15581.00</td>\n",
       "      <td>108.550919</td>\n",
       "      <td>423.544861</td>\n",
       "      <td>15581.00</td>\n",
       "      <td>111.029999</td>\n",
       "      <td>428.589996</td>\n",
       "      <td>15852.75</td>\n",
       "      <td>111.849998</td>\n",
       "      <td>431.359985</td>\n",
       "      <td>15510.00</td>\n",
       "      <td>110.760002</td>\n",
       "      <td>427.200012</td>\n",
       "      <td>15801.75</td>\n",
       "      <td>111.480003</td>\n",
       "      <td>430.209991</td>\n",
       "      <td>704406</td>\n",
       "      <td>6999300.0</td>\n",
       "      <td>6157500.0</td>\n",
       "    </tr>\n",
       "    <tr>\n",
       "      <th>...</th>\n",
       "      <td>...</td>\n",
       "      <td>...</td>\n",
       "      <td>...</td>\n",
       "      <td>...</td>\n",
       "      <td>...</td>\n",
       "      <td>...</td>\n",
       "      <td>...</td>\n",
       "      <td>...</td>\n",
       "      <td>...</td>\n",
       "      <td>...</td>\n",
       "      <td>...</td>\n",
       "      <td>...</td>\n",
       "      <td>...</td>\n",
       "      <td>...</td>\n",
       "      <td>...</td>\n",
       "      <td>...</td>\n",
       "      <td>...</td>\n",
       "      <td>...</td>\n",
       "    </tr>\n",
       "    <tr>\n",
       "      <th>2022-09-30</th>\n",
       "      <td>11035.50</td>\n",
       "      <td>80.169998</td>\n",
       "      <td>328.299988</td>\n",
       "      <td>11035.50</td>\n",
       "      <td>80.169998</td>\n",
       "      <td>328.299988</td>\n",
       "      <td>11357.25</td>\n",
       "      <td>80.739998</td>\n",
       "      <td>336.190002</td>\n",
       "      <td>11024.25</td>\n",
       "      <td>79.500000</td>\n",
       "      <td>328.119995</td>\n",
       "      <td>11220.00</td>\n",
       "      <td>79.699997</td>\n",
       "      <td>332.570007</td>\n",
       "      <td>878168</td>\n",
       "      <td>9023600.0</td>\n",
       "      <td>7736600.0</td>\n",
       "    </tr>\n",
       "    <tr>\n",
       "      <th>2022-10-03</th>\n",
       "      <td>11285.75</td>\n",
       "      <td>81.599998</td>\n",
       "      <td>336.980011</td>\n",
       "      <td>11285.75</td>\n",
       "      <td>81.599998</td>\n",
       "      <td>336.980011</td>\n",
       "      <td>11358.25</td>\n",
       "      <td>82.110001</td>\n",
       "      <td>338.660004</td>\n",
       "      <td>10890.75</td>\n",
       "      <td>80.040001</td>\n",
       "      <td>330.100006</td>\n",
       "      <td>11030.00</td>\n",
       "      <td>81.400002</td>\n",
       "      <td>331.790009</td>\n",
       "      <td>757581</td>\n",
       "      <td>8718400.0</td>\n",
       "      <td>5739000.0</td>\n",
       "    </tr>\n",
       "    <tr>\n",
       "      <th>2022-10-04</th>\n",
       "      <td>11640.75</td>\n",
       "      <td>83.250000</td>\n",
       "      <td>347.209991</td>\n",
       "      <td>11640.75</td>\n",
       "      <td>83.250000</td>\n",
       "      <td>347.209991</td>\n",
       "      <td>11675.00</td>\n",
       "      <td>83.870003</td>\n",
       "      <td>347.329987</td>\n",
       "      <td>11281.50</td>\n",
       "      <td>82.430000</td>\n",
       "      <td>342.130005</td>\n",
       "      <td>11314.50</td>\n",
       "      <td>82.550003</td>\n",
       "      <td>342.140015</td>\n",
       "      <td>772885</td>\n",
       "      <td>6439300.0</td>\n",
       "      <td>5110000.0</td>\n",
       "    </tr>\n",
       "    <tr>\n",
       "      <th>2022-10-05</th>\n",
       "      <td>11623.75</td>\n",
       "      <td>81.620003</td>\n",
       "      <td>346.609985</td>\n",
       "      <td>11623.75</td>\n",
       "      <td>81.620003</td>\n",
       "      <td>346.609985</td>\n",
       "      <td>11711.00</td>\n",
       "      <td>82.250000</td>\n",
       "      <td>348.640015</td>\n",
       "      <td>11366.50</td>\n",
       "      <td>80.269997</td>\n",
       "      <td>340.859985</td>\n",
       "      <td>11630.25</td>\n",
       "      <td>82.120003</td>\n",
       "      <td>343.119995</td>\n",
       "      <td>700889</td>\n",
       "      <td>6518400.0</td>\n",
       "      <td>4755800.0</td>\n",
       "    </tr>\n",
       "    <tr>\n",
       "      <th>2022-10-06</th>\n",
       "      <td>11541.75</td>\n",
       "      <td>79.349998</td>\n",
       "      <td>342.959991</td>\n",
       "      <td>11541.75</td>\n",
       "      <td>79.349998</td>\n",
       "      <td>342.959991</td>\n",
       "      <td>11729.75</td>\n",
       "      <td>81.720001</td>\n",
       "      <td>347.980011</td>\n",
       "      <td>11505.25</td>\n",
       "      <td>79.180000</td>\n",
       "      <td>342.489990</td>\n",
       "      <td>11628.00</td>\n",
       "      <td>81.389999</td>\n",
       "      <td>345.179993</td>\n",
       "      <td>773914</td>\n",
       "      <td>7820800.0</td>\n",
       "      <td>3879600.0</td>\n",
       "    </tr>\n",
       "  </tbody>\n",
       "</table>\n",
       "<p>193 rows × 18 columns</p>\n",
       "</div>"
      ],
      "text/plain": [
       "           Adj Close                             Close              \\\n",
       "                NQ=F         VNQ         VOO      NQ=F         VNQ   \n",
       "Date                                                                 \n",
       "2022-01-03  16485.50  112.530052  434.079407  16485.50  115.099998   \n",
       "2022-01-04  16275.75  112.393173  433.901550  16275.75  114.959999   \n",
       "2022-01-05  15766.50  109.176643  425.590515  15766.50  111.669998   \n",
       "2022-01-06  15759.00  109.274399  425.017365  15759.00  111.769997   \n",
       "2022-01-07  15581.00  108.550919  423.544861  15581.00  111.029999   \n",
       "...              ...         ...         ...       ...         ...   \n",
       "2022-09-30  11035.50   80.169998  328.299988  11035.50   80.169998   \n",
       "2022-10-03  11285.75   81.599998  336.980011  11285.75   81.599998   \n",
       "2022-10-04  11640.75   83.250000  347.209991  11640.75   83.250000   \n",
       "2022-10-05  11623.75   81.620003  346.609985  11623.75   81.620003   \n",
       "2022-10-06  11541.75   79.349998  342.959991  11541.75   79.349998   \n",
       "\n",
       "                            High                               Low  \\\n",
       "                   VOO      NQ=F         VNQ         VOO      NQ=F   \n",
       "Date                                                                 \n",
       "2022-01-03  439.250000  16508.00  116.239998  439.269989  16292.00   \n",
       "2022-01-04  439.070007  16564.00  116.080002  441.260010  16139.50   \n",
       "2022-01-05  430.660004  16269.00  114.800003  439.410004  15752.75   \n",
       "2022-01-06  430.079987  15895.75  112.220001  432.829987  15598.50   \n",
       "2022-01-07  428.589996  15852.75  111.849998  431.359985  15510.00   \n",
       "...                ...       ...         ...         ...       ...   \n",
       "2022-09-30  328.299988  11357.25   80.739998  336.190002  11024.25   \n",
       "2022-10-03  336.980011  11358.25   82.110001  338.660004  10890.75   \n",
       "2022-10-04  347.209991  11675.00   83.870003  347.329987  11281.50   \n",
       "2022-10-05  346.609985  11711.00   82.250000  348.640015  11366.50   \n",
       "2022-10-06  342.959991  11729.75   81.720001  347.980011  11505.25   \n",
       "\n",
       "                                        Open                          Volume  \\\n",
       "                   VNQ         VOO      NQ=F         VNQ         VOO    NQ=F   \n",
       "Date                                                                           \n",
       "2022-01-03  113.459999  435.640015  16356.00  116.209999  437.929993  513549   \n",
       "2022-01-04  114.860001  437.220001  16497.75  115.419998  440.579987  669527   \n",
       "2022-01-05  111.550003  430.529999  16265.00  114.760002  438.779999  769790   \n",
       "2022-01-06  110.599998  427.899994  15763.75  111.809998  430.200012  802950   \n",
       "2022-01-07  110.760002  427.200012  15801.75  111.480003  430.209991  704406   \n",
       "...                ...         ...       ...         ...         ...     ...   \n",
       "2022-09-30   79.500000  328.119995  11220.00   79.699997  332.570007  878168   \n",
       "2022-10-03   80.040001  330.100006  11030.00   81.400002  331.790009  757581   \n",
       "2022-10-04   82.430000  342.130005  11314.50   82.550003  342.140015  772885   \n",
       "2022-10-05   80.269997  340.859985  11630.25   82.120003  343.119995  700889   \n",
       "2022-10-06   79.180000  342.489990  11628.00   81.389999  345.179993  773914   \n",
       "\n",
       "                                  \n",
       "                  VNQ        VOO  \n",
       "Date                              \n",
       "2022-01-03  9845000.0  6017300.0  \n",
       "2022-01-04  5330700.0  6262200.0  \n",
       "2022-01-05  6928300.0  7539600.0  \n",
       "2022-01-06  5974500.0  7971500.0  \n",
       "2022-01-07  6999300.0  6157500.0  \n",
       "...               ...        ...  \n",
       "2022-09-30  9023600.0  7736600.0  \n",
       "2022-10-03  8718400.0  5739000.0  \n",
       "2022-10-04  6439300.0  5110000.0  \n",
       "2022-10-05  6518400.0  4755800.0  \n",
       "2022-10-06  7820800.0  3879600.0  \n",
       "\n",
       "[193 rows x 18 columns]"
      ]
     },
     "execution_count": 36,
     "metadata": {},
     "output_type": "execute_result"
    }
   ],
   "source": [
    "data = yf.download(\"VOO VNQ NQ=F\", start=\"2022-01-02\", end=\"2022-10-07\")\n",
    "data\n",
    "\n",
    "\n",
    "#Industries affected most include retail, restaurants, travel/tourism, \n",
    "#leisure/hospitality, service purveyors, real estate, & manufacturing/warehouse.\n",
    "\n",
    "#VOO is the S&P500, VNQ is a Real estate ETF, NQ=F is also similar to the S&P 500 but it combines 100 of the top preforming internation stocks. "
   ]
  },
  {
   "cell_type": "code",
   "execution_count": 37,
   "id": "74ce35a5",
   "metadata": {},
   "outputs": [],
   "source": [
    "eco_vec_map = {'GDP':'v65201210',\n",
    "               'Unemployment_Rate':'v2440389'}"
   ]
  },
  {
   "cell_type": "code",
   "execution_count": 38,
   "id": "aeeb9611",
   "metadata": {},
   "outputs": [],
   "source": [
    "#periods can be changed to adjust time period being plotted\n",
    "vectors = list(eco_vec_map.values())\n",
    "df = stats_can.sc.vectors_to_df(vectors, periods = 300)"
   ]
  },
  {
   "cell_type": "code",
   "execution_count": 39,
   "id": "8709b531",
   "metadata": {},
   "outputs": [],
   "source": [
    "inv_map = {v: k for k, v in eco_vec_map.items()}\n",
    "df.columns = df.columns.to_series().map(inv_map)\n",
    "df.index.names = ['Date']"
   ]
  },
  {
   "cell_type": "code",
   "execution_count": 40,
   "id": "15a289ff",
   "metadata": {},
   "outputs": [
    {
     "data": {
      "text/plain": [
       "array([[<AxesSubplot:xlabel='Date'>, <AxesSubplot:xlabel='Date'>],\n",
       "       [<AxesSubplot:xlabel='Date'>, <AxesSubplot:xlabel='Date'>],\n",
       "       [<AxesSubplot:xlabel='Date'>, <AxesSubplot:xlabel='Date'>]],\n",
       "      dtype=object)"
      ]
     },
     "execution_count": 40,
     "metadata": {},
     "output_type": "execute_result"
    },
    {
     "data": {
      "image/png": "[encoded data removed]",
      "text/plain": [
       "<Figure size 1008x576 with 6 Axes>"
      ]
     },
     "metadata": {
      "needs_background": "light"
     },
     "output_type": "display_data"
    }
   ],
   "source": [
    "df.plot(subplots = True, figsize = (14,8), layout = (3,2))"
   ]
  },
  {
   "cell_type": "code",
   "execution_count": 41,
   "id": "52038eca",
   "metadata": {},
   "outputs": [],
   "source": [
    "df = pd.read_csv(\"Rates_data.csv\")"
   ]
  },
  {
   "cell_type": "code",
   "execution_count": 42,
   "id": "b52a07f2",
   "metadata": {},
   "outputs": [],
   "source": [
    "x = []\n",
    "y = []"
   ]
  },
  {
   "cell_type": "code",
   "execution_count": 43,
   "id": "3fa748b5",
   "metadata": {},
   "outputs": [
    {
     "data": {
      "image/png": "[encoded data removed]",
      "text/plain": [
       "<Figure size 432x288 with 1 Axes>"
      ]
     },
     "metadata": {
      "needs_background": "light"
     },
     "output_type": "display_data"
    }
   ],
   "source": [
    "plt.xticks(rotation = 25)\n",
    "plt.xlabel('date')\n",
    "plt.ylabel('V122667775')\n",
    "plt.grid()\n",
    "plt.show()"
   ]
  },
  {
   "cell_type": "code",
   "execution_count": 44,
   "id": "b33362b6",
   "metadata": {},
   "outputs": [],
   "source": [
    "x = df['date']"
   ]
  },
  {
   "cell_type": "code",
   "execution_count": 45,
   "id": "12797f12",
   "metadata": {},
   "outputs": [],
   "source": [
    "y = df['V122667775']"
   ]
  },
  {
   "cell_type": "code",
   "execution_count": 46,
   "id": "600850dd",
   "metadata": {},
   "outputs": [
    {
     "data": {
      "text/plain": [
       "<matplotlib.collections.PathCollection at 0x14cbac3b730>"
      ]
     },
     "execution_count": 46,
     "metadata": {},
     "output_type": "execute_result"
    },
    {
     "data": {
      "image/png": "[encoded data removed]",
      "text/plain": [
       "<Figure size 432x288 with 1 Axes>"
      ]
     },
     "metadata": {
      "needs_background": "light"
     },
     "output_type": "display_data"
    }
   ],
   "source": [
    "plt.scatter(x,y)"
   ]
  },
  {
   "cell_type": "code",
   "execution_count": 50,
   "id": "a5174487",
   "metadata": {},
   "outputs": [
    {
     "data": {
      "text/plain": [
       "<Figure size 432x288 with 0 Axes>"
      ]
     },
     "metadata": {},
     "output_type": "display_data"
    },
    {
     "data": {
      "image/png": "[encoded data removed]",
      "text/plain": [
       "<Figure size 432x288 with 1 Axes>"
      ]
     },
     "metadata": {
      "needs_background": "light"
     },
     "output_type": "display_data"
    }
   ],
   "source": [
    "fig = plt.figure()\n",
    "fig.suptitle('% Chg in Interest Rate')\n",
    "df.plot()\n",
    "plt.show()"
   ]
  },
  {
   "cell_type": "code",
   "execution_count": null,
   "id": "3a439d1b",
   "metadata": {},
   "outputs": [],
   "source": [
    "'''Smoothed recession probabilities for the United States are \n",
    "obtained from a dynamic-factor Markov-switching model applied to four\n",
    "monthly coincident variables: non-farm payroll employment, the index\n",
    "of industrial production, real personal income excluding transfer\n",
    "payments, and real manufacturing and trade sales.'''"
   ]
  },
  {
   "cell_type": "code",
   "execution_count": 94,
   "id": "07efc706",
   "metadata": {},
   "outputs": [],
   "source": [
    "df_employment = pd.read_csv(\"Non-Farm Payroll Employment.csv\", header=0, index_col=0, infer_datetime_format=True, parse_dates=['DATE'])\n",
    "df_index = pd.read_csv(\"The Index of Industrial Production.csv\", header=0, index_col=0, infer_datetime_format=True, parse_dates=['DATE'])\n",
    "df_income = pd.read_csv(\"Real Personal Income Excluding Current Transfer Receipts.csv\", header=0, index_col=0, infer_datetime_format=True, parse_dates=['DATE'])\n",
    "df_sales = pd.read_csv(\"Real Manufacturing and Trade Sales.csv\", header=0, index_col=0, infer_datetime_format=True, parse_dates=['DATE'])"
   ]
  },
  {
   "cell_type": "code",
   "execution_count": 95,
   "id": "b74807e0",
   "metadata": {},
   "outputs": [
    {
     "data": {
      "text/html": [
       "<div>\n",
       "<style scoped>\n",
       "    .dataframe tbody tr th:only-of-type {\n",
       "        vertical-align: middle;\n",
       "    }\n",
       "\n",
       "    .dataframe tbody tr th {\n",
       "        vertical-align: top;\n",
       "    }\n",
       "\n",
       "    .dataframe thead th {\n",
       "        text-align: right;\n",
       "    }\n",
       "</style>\n",
       "<table border=\"1\" class=\"dataframe\">\n",
       "  <thead>\n",
       "    <tr style=\"text-align: right;\">\n",
       "      <th></th>\n",
       "      <th>PAYEMS</th>\n",
       "    </tr>\n",
       "    <tr>\n",
       "      <th>DATE</th>\n",
       "      <th></th>\n",
       "    </tr>\n",
       "  </thead>\n",
       "  <tbody>\n",
       "    <tr>\n",
       "      <th>1980-01-01</th>\n",
       "      <td>90800</td>\n",
       "    </tr>\n",
       "    <tr>\n",
       "      <th>1980-01-02</th>\n",
       "      <td>90883</td>\n",
       "    </tr>\n",
       "    <tr>\n",
       "      <th>1980-01-03</th>\n",
       "      <td>90994</td>\n",
       "    </tr>\n",
       "    <tr>\n",
       "      <th>1980-01-04</th>\n",
       "      <td>90849</td>\n",
       "    </tr>\n",
       "    <tr>\n",
       "      <th>1980-01-05</th>\n",
       "      <td>90420</td>\n",
       "    </tr>\n",
       "    <tr>\n",
       "      <th>...</th>\n",
       "      <td>...</td>\n",
       "    </tr>\n",
       "    <tr>\n",
       "      <th>2022-01-04</th>\n",
       "      <td>151224</td>\n",
       "    </tr>\n",
       "    <tr>\n",
       "      <th>2022-01-05</th>\n",
       "      <td>151610</td>\n",
       "    </tr>\n",
       "    <tr>\n",
       "      <th>2022-01-06</th>\n",
       "      <td>151903</td>\n",
       "    </tr>\n",
       "    <tr>\n",
       "      <th>2022-01-07</th>\n",
       "      <td>152440</td>\n",
       "    </tr>\n",
       "    <tr>\n",
       "      <th>2022-01-08</th>\n",
       "      <td>152732</td>\n",
       "    </tr>\n",
       "  </tbody>\n",
       "</table>\n",
       "<p>512 rows × 1 columns</p>\n",
       "</div>"
      ],
      "text/plain": [
       "            PAYEMS\n",
       "DATE              \n",
       "1980-01-01   90800\n",
       "1980-01-02   90883\n",
       "1980-01-03   90994\n",
       "1980-01-04   90849\n",
       "1980-01-05   90420\n",
       "...            ...\n",
       "2022-01-04  151224\n",
       "2022-01-05  151610\n",
       "2022-01-06  151903\n",
       "2022-01-07  152440\n",
       "2022-01-08  152732\n",
       "\n",
       "[512 rows x 1 columns]"
      ]
     },
     "execution_count": 95,
     "metadata": {},
     "output_type": "execute_result"
    }
   ],
   "source": [
    "df_employment"
   ]
  },
  {
   "cell_type": "code",
   "execution_count": 96,
   "id": "944ced5f",
   "metadata": {},
   "outputs": [
    {
     "data": {
      "text/html": [
       "<div>\n",
       "<style scoped>\n",
       "    .dataframe tbody tr th:only-of-type {\n",
       "        vertical-align: middle;\n",
       "    }\n",
       "\n",
       "    .dataframe tbody tr th {\n",
       "        vertical-align: top;\n",
       "    }\n",
       "\n",
       "    .dataframe thead th {\n",
       "        text-align: right;\n",
       "    }\n",
       "</style>\n",
       "<table border=\"1\" class=\"dataframe\">\n",
       "  <thead>\n",
       "    <tr style=\"text-align: right;\">\n",
       "      <th></th>\n",
       "      <th>INDPRO</th>\n",
       "    </tr>\n",
       "    <tr>\n",
       "      <th>DATE</th>\n",
       "      <th></th>\n",
       "    </tr>\n",
       "  </thead>\n",
       "  <tbody>\n",
       "    <tr>\n",
       "      <th>1980-01-01</th>\n",
       "      <td>52.0677</td>\n",
       "    </tr>\n",
       "    <tr>\n",
       "      <th>1980-01-02</th>\n",
       "      <td>52.0899</td>\n",
       "    </tr>\n",
       "    <tr>\n",
       "      <th>1980-01-03</th>\n",
       "      <td>51.8687</td>\n",
       "    </tr>\n",
       "    <tr>\n",
       "      <th>1980-01-04</th>\n",
       "      <td>50.8454</td>\n",
       "    </tr>\n",
       "    <tr>\n",
       "      <th>1980-01-05</th>\n",
       "      <td>49.5947</td>\n",
       "    </tr>\n",
       "    <tr>\n",
       "      <th>...</th>\n",
       "      <td>...</td>\n",
       "    </tr>\n",
       "    <tr>\n",
       "      <th>2022-01-04</th>\n",
       "      <td>104.2709</td>\n",
       "    </tr>\n",
       "    <tr>\n",
       "      <th>2022-01-05</th>\n",
       "      <td>104.1646</td>\n",
       "    </tr>\n",
       "    <tr>\n",
       "      <th>2022-01-06</th>\n",
       "      <td>104.0772</td>\n",
       "    </tr>\n",
       "    <tr>\n",
       "      <th>2022-01-07</th>\n",
       "      <td>104.7577</td>\n",
       "    </tr>\n",
       "    <tr>\n",
       "      <th>2022-01-08</th>\n",
       "      <td>104.6544</td>\n",
       "    </tr>\n",
       "  </tbody>\n",
       "</table>\n",
       "<p>512 rows × 1 columns</p>\n",
       "</div>"
      ],
      "text/plain": [
       "              INDPRO\n",
       "DATE                \n",
       "1980-01-01   52.0677\n",
       "1980-01-02   52.0899\n",
       "1980-01-03   51.8687\n",
       "1980-01-04   50.8454\n",
       "1980-01-05   49.5947\n",
       "...              ...\n",
       "2022-01-04  104.2709\n",
       "2022-01-05  104.1646\n",
       "2022-01-06  104.0772\n",
       "2022-01-07  104.7577\n",
       "2022-01-08  104.6544\n",
       "\n",
       "[512 rows x 1 columns]"
      ]
     },
     "execution_count": 96,
     "metadata": {},
     "output_type": "execute_result"
    }
   ],
   "source": [
    "df_index"
   ]
  },
  {
   "cell_type": "code",
   "execution_count": 97,
   "id": "38c1e53b",
   "metadata": {},
   "outputs": [
    {
     "data": {
      "text/html": [
       "<div>\n",
       "<style scoped>\n",
       "    .dataframe tbody tr th:only-of-type {\n",
       "        vertical-align: middle;\n",
       "    }\n",
       "\n",
       "    .dataframe tbody tr th {\n",
       "        vertical-align: top;\n",
       "    }\n",
       "\n",
       "    .dataframe thead th {\n",
       "        text-align: right;\n",
       "    }\n",
       "</style>\n",
       "<table border=\"1\" class=\"dataframe\">\n",
       "  <thead>\n",
       "    <tr style=\"text-align: right;\">\n",
       "      <th></th>\n",
       "      <th>W875RX1</th>\n",
       "    </tr>\n",
       "    <tr>\n",
       "      <th>DATE</th>\n",
       "      <th></th>\n",
       "    </tr>\n",
       "  </thead>\n",
       "  <tbody>\n",
       "    <tr>\n",
       "      <th>1980-01-01</th>\n",
       "      <td>4985.4</td>\n",
       "    </tr>\n",
       "    <tr>\n",
       "      <th>1980-01-02</th>\n",
       "      <td>4965.6</td>\n",
       "    </tr>\n",
       "    <tr>\n",
       "      <th>1980-01-03</th>\n",
       "      <td>4948.3</td>\n",
       "    </tr>\n",
       "    <tr>\n",
       "      <th>1980-01-04</th>\n",
       "      <td>4938.4</td>\n",
       "    </tr>\n",
       "    <tr>\n",
       "      <th>1980-01-05</th>\n",
       "      <td>4917.8</td>\n",
       "    </tr>\n",
       "    <tr>\n",
       "      <th>...</th>\n",
       "      <td>...</td>\n",
       "    </tr>\n",
       "    <tr>\n",
       "      <th>2022-01-04</th>\n",
       "      <td>14505.4</td>\n",
       "    </tr>\n",
       "    <tr>\n",
       "      <th>2022-01-05</th>\n",
       "      <td>14514.6</td>\n",
       "    </tr>\n",
       "    <tr>\n",
       "      <th>2022-01-06</th>\n",
       "      <td>14457.8</td>\n",
       "    </tr>\n",
       "    <tr>\n",
       "      <th>2022-01-07</th>\n",
       "      <td>14557.7</td>\n",
       "    </tr>\n",
       "    <tr>\n",
       "      <th>2022-01-08</th>\n",
       "      <td>14583.2</td>\n",
       "    </tr>\n",
       "  </tbody>\n",
       "</table>\n",
       "<p>512 rows × 1 columns</p>\n",
       "</div>"
      ],
      "text/plain": [
       "            W875RX1\n",
       "DATE               \n",
       "1980-01-01   4985.4\n",
       "1980-01-02   4965.6\n",
       "1980-01-03   4948.3\n",
       "1980-01-04   4938.4\n",
       "1980-01-05   4917.8\n",
       "...             ...\n",
       "2022-01-04  14505.4\n",
       "2022-01-05  14514.6\n",
       "2022-01-06  14457.8\n",
       "2022-01-07  14557.7\n",
       "2022-01-08  14583.2\n",
       "\n",
       "[512 rows x 1 columns]"
      ]
     },
     "execution_count": 97,
     "metadata": {},
     "output_type": "execute_result"
    }
   ],
   "source": [
    "df_income"
   ]
  },
  {
   "cell_type": "code",
   "execution_count": 100,
   "id": "9c264e3d",
   "metadata": {},
   "outputs": [
    {
     "data": {
      "text/html": [
       "<div>\n",
       "<style scoped>\n",
       "    .dataframe tbody tr th:only-of-type {\n",
       "        vertical-align: middle;\n",
       "    }\n",
       "\n",
       "    .dataframe tbody tr th {\n",
       "        vertical-align: top;\n",
       "    }\n",
       "\n",
       "    .dataframe thead th {\n",
       "        text-align: right;\n",
       "    }\n",
       "</style>\n",
       "<table border=\"1\" class=\"dataframe\">\n",
       "  <thead>\n",
       "    <tr style=\"text-align: right;\">\n",
       "      <th></th>\n",
       "      <th>CMRMTSPL</th>\n",
       "    </tr>\n",
       "    <tr>\n",
       "      <th>DATE</th>\n",
       "      <th></th>\n",
       "    </tr>\n",
       "  </thead>\n",
       "  <tbody>\n",
       "    <tr>\n",
       "      <th>1980-01-01</th>\n",
       "      <td>596439.789</td>\n",
       "    </tr>\n",
       "    <tr>\n",
       "      <th>1980-01-02</th>\n",
       "      <td>590829.499</td>\n",
       "    </tr>\n",
       "    <tr>\n",
       "      <th>1980-01-03</th>\n",
       "      <td>577376.228</td>\n",
       "    </tr>\n",
       "    <tr>\n",
       "      <th>1980-01-04</th>\n",
       "      <td>565015.820</td>\n",
       "    </tr>\n",
       "    <tr>\n",
       "      <th>1980-01-05</th>\n",
       "      <td>557782.101</td>\n",
       "    </tr>\n",
       "    <tr>\n",
       "      <th>...</th>\n",
       "      <td>...</td>\n",
       "    </tr>\n",
       "    <tr>\n",
       "      <th>2022-01-04</th>\n",
       "      <td>1551827.000</td>\n",
       "    </tr>\n",
       "    <tr>\n",
       "      <th>2022-01-05</th>\n",
       "      <td>1541414.000</td>\n",
       "    </tr>\n",
       "    <tr>\n",
       "      <th>2022-01-06</th>\n",
       "      <td>1536205.000</td>\n",
       "    </tr>\n",
       "    <tr>\n",
       "      <th>2022-01-07</th>\n",
       "      <td>1545055.000</td>\n",
       "    </tr>\n",
       "    <tr>\n",
       "      <th>2022-01-08</th>\n",
       "      <td>1570466.000</td>\n",
       "    </tr>\n",
       "  </tbody>\n",
       "</table>\n",
       "<p>512 rows × 1 columns</p>\n",
       "</div>"
      ],
      "text/plain": [
       "               CMRMTSPL\n",
       "DATE                   \n",
       "1980-01-01   596439.789\n",
       "1980-01-02   590829.499\n",
       "1980-01-03   577376.228\n",
       "1980-01-04   565015.820\n",
       "1980-01-05   557782.101\n",
       "...                 ...\n",
       "2022-01-04  1551827.000\n",
       "2022-01-05  1541414.000\n",
       "2022-01-06  1536205.000\n",
       "2022-01-07  1545055.000\n",
       "2022-01-08  1570466.000\n",
       "\n",
       "[512 rows x 1 columns]"
      ]
     },
     "execution_count": 100,
     "metadata": {},
     "output_type": "execute_result"
    }
   ],
   "source": [
    "df_sales"
   ]
  },
  {
   "cell_type": "code",
   "execution_count": 109,
   "id": "0b8f1ccf",
   "metadata": {},
   "outputs": [
    {
     "data": {
      "text/plain": [
       "<Figure size 432x288 with 0 Axes>"
      ]
     },
     "metadata": {},
     "output_type": "display_data"
    },
    {
     "data": {
      "image/png": "[encoded data removed]",
      "text/plain": [
       "<Figure size 432x288 with 1 Axes>"
      ]
     },
     "metadata": {
      "needs_background": "light"
     },
     "output_type": "display_data"
    },
    {
     "data": {
      "text/plain": [
       "<Figure size 432x288 with 0 Axes>"
      ]
     },
     "metadata": {},
     "output_type": "display_data"
    },
    {
     "data": {
      "image/png": "[encoded data removed]",
      "text/plain": [
       "<Figure size 432x288 with 1 Axes>"
      ]
     },
     "metadata": {
      "needs_background": "light"
     },
     "output_type": "display_data"
    },
    {
     "data": {
      "text/plain": [
       "<Figure size 432x288 with 0 Axes>"
      ]
     },
     "metadata": {},
     "output_type": "display_data"
    },
    {
     "data": {
      "image/png": "[encoded data removed]",
      "text/plain": [
       "<Figure size 432x288 with 1 Axes>"
      ]
     },
     "metadata": {
      "needs_background": "light"
     },
     "output_type": "display_data"
    },
    {
     "data": {
      "text/plain": [
       "<Figure size 432x288 with 0 Axes>"
      ]
     },
     "metadata": {},
     "output_type": "display_data"
    },
    {
     "data": {
      "image/png": "[encoded data removed]",
      "text/plain": [
       "<Figure size 432x288 with 1 Axes>"
      ]
     },
     "metadata": {
      "needs_background": "light"
     },
     "output_type": "display_data"
    }
   ],
   "source": [
    "fig = plt.figure()\n",
    "df_employment.plot()\n",
    "plt.title('Non-Farm Payroll Employment')\n",
    "plt.show()\n",
    " \n",
    "fig = plt.figure()\n",
    "df_index.plot()\n",
    "plt.title('The Index of Industrial Production')\n",
    "plt.show()\n",
    "\n",
    "fig = plt.figure()\n",
    "df_income.plot()\n",
    "plt.title('Real Personal Income Excluding Current Transfer Receipts')\n",
    "plt.show()\n",
    " \n",
    "fig = plt.figure()\n",
    "df_sales.plot()\n",
    "plt.title('Real Manufacturing and Trade Sales')\n",
    "plt.show()"
   ]
  },
  {
   "cell_type": "code",
   "execution_count": 111,
   "id": "1cc8b5d8",
   "metadata": {},
   "outputs": [
    {
     "name": "stderr",
     "output_type": "stream",
     "text": [
      "C:\\Users\\amray\\anaconda3\\lib\\site-packages\\statsmodels\\tsa\\base\\tsa_model.py:471: ValueWarning: A date index has been provided, but it has no associated frequency information and so will be ignored when e.g. forecasting.\n",
      "  self._init_dates(dates, freq)\n",
      "C:\\Users\\amray\\anaconda3\\lib\\site-packages\\statsmodels\\tsa\\regime_switching\\markov_switching.py:1281: RuntimeWarning: invalid value encountered in double_scalars\n",
      "  np.sum(smoothed_joint_probabilities[j, i]) /\n",
      "C:\\Users\\amray\\anaconda3\\lib\\site-packages\\statsmodels\\tsa\\regime_switching\\markov_regression.py:268: RuntimeWarning: invalid value encountered in double_scalars\n",
      "  np.sum(resid**2 *\n",
      "C:\\Users\\amray\\anaconda3\\lib\\site-packages\\statsmodels\\base\\optimizer.py:17: FutureWarning: Keyword arguments have been passed to the optimizer that have no effect. The list of allowed keyword arguments for method bfgs is: gtol, norm, epsilon. The list of unsupported keyword arguments passed include: iter. After release 0.14, this will raise.\n",
      "  warnings.warn(\n",
      "C:\\Users\\amray\\anaconda3\\lib\\site-packages\\scipy\\special\\_logsumexp.py:118: RuntimeWarning: invalid value encountered in log\n",
      "  out = np.log(s)\n",
      "C:\\Users\\amray\\anaconda3\\lib\\site-packages\\statsmodels\\tsa\\regime_switching\\markov_regression.py:187: RuntimeWarning: invalid value encountered in true_divide\n",
      "  -0.5 * resid**2 / variance - 0.5 * np.log(2 * np.pi * variance))\n",
      "C:\\Users\\amray\\anaconda3\\lib\\site-packages\\statsmodels\\tsa\\regime_switching\\markov_regression.py:187: RuntimeWarning: invalid value encountered in log\n",
      "  -0.5 * resid**2 / variance - 0.5 * np.log(2 * np.pi * variance))\n",
      "C:\\Users\\amray\\anaconda3\\lib\\site-packages\\statsmodels\\tsa\\regime_switching\\markov_switching.py:169: RuntimeWarning: invalid value encountered in log\n",
      "  initial_probabilities = np.log(initial_probabilities)\n",
      "C:\\Users\\amray\\anaconda3\\lib\\site-packages\\statsmodels\\tsa\\regime_switching\\markov_switching.py:170: RuntimeWarning: invalid value encountered in log\n",
      "  regime_transition = np.log(np.maximum(regime_transition, 1e-20))\n",
      "C:\\Users\\amray\\anaconda3\\lib\\site-packages\\statsmodels\\base\\model.py:604: ConvergenceWarning: Maximum Likelihood optimization failed to converge. Check mle_retvals\n",
      "  warnings.warn(\"Maximum Likelihood optimization failed to \"\n"
     ]
    }
   ],
   "source": [
    "msdr_model = sm.tsa.MarkovRegression(endog=df_employment, k_regimes=2, trend='c', exog=df_index, switching_variance=True)\n",
    "msdr_model_results = msdr_model.fit(iter=1000)"
   ]
  },
  {
   "cell_type": "code",
   "execution_count": 112,
   "id": "8837f457",
   "metadata": {
    "scrolled": true
   },
   "outputs": [
    {
     "name": "stdout",
     "output_type": "stream",
     "text": [
      "                        Markov Switching Model Results                        \n",
      "==============================================================================\n",
      "Dep. Variable:                 PAYEMS   No. Observations:                  512\n",
      "Model:               MarkovRegression   Log Likelihood                     nan\n",
      "Date:                Mon, 28 Nov 2022   AIC                                nan\n",
      "Time:                        14:45:07   BIC                                nan\n",
      "Sample:                             0   HQIC                               nan\n",
      "                                - 512                                         \n",
      "Covariance Type:               approx                                         \n",
      "                             Regime 0 parameters                              \n",
      "==============================================================================\n",
      "                 coef    std err          z      P>|z|      [0.025      0.975]\n",
      "------------------------------------------------------------------------------\n",
      "const             nan        nan        nan        nan         nan         nan\n",
      "x1                nan        nan        nan        nan         nan         nan\n",
      "sigma2            nan        nan        nan        nan         nan         nan\n",
      "                             Regime 1 parameters                              \n",
      "==============================================================================\n",
      "                 coef    std err          z      P>|z|      [0.025      0.975]\n",
      "------------------------------------------------------------------------------\n",
      "const             nan        nan        nan        nan         nan         nan\n",
      "x1                nan        nan        nan        nan         nan         nan\n",
      "sigma2            nan        nan        nan        nan         nan         nan\n",
      "                         Regime transition parameters                         \n",
      "==============================================================================\n",
      "                 coef    std err          z      P>|z|      [0.025      0.975]\n",
      "------------------------------------------------------------------------------\n",
      "p[0->0]           nan        nan        nan        nan         nan         nan\n",
      "p[1->0]           nan        nan        nan        nan         nan         nan\n",
      "==============================================================================\n",
      "\n",
      "Warnings:\n",
      "[1] Covariance matrix is singular or near-singular, with condition number    nan. Standard errors may be unstable.\n"
     ]
    }
   ],
   "source": [
    "print(msdr_model_results.summary())"
   ]
  },
  {
   "cell_type": "code",
   "execution_count": 145,
   "id": "486d7d84",
   "metadata": {},
   "outputs": [
    {
     "data": {
      "image/png": "[encoded data removed]",
      "text/plain": [
       "<Figure size 432x288 with 3 Axes>"
      ]
     },
     "metadata": {
      "needs_background": "light"
     },
     "output_type": "display_data"
    }
   ],
   "source": [
    "figure, axes = plt.subplots(3)\n",
    "\n",
    "ax = axes[0]\n",
    "ax.plot(df_employment.index)\n",
    "ax.plot(df.index, msdr_model_results.smoothed_marginal_probabilities[0])\n",
    "ax.set(title='Non-Farm Payroll Employment')\n",
    " \n",
    "ax = axes[1]\n",
    "ax.plot(df.index, msdr_model_results.smoothed_marginal_probabilities[0])\n",
    "ax.set(title='Smoothed probability of regime 0')\n",
    "\n",
    "ax = axes[2]\n",
    "ax.plot(df_index.index, msdr_model_results.smoothed_marginal_probabilities[1])\n",
    "ax.set(title='Smoothed probability of regime 0')\n",
    "\n",
    "plt.show()"
   ]
  },
  {
   "cell_type": "code",
   "execution_count": 126,
   "id": "9884ff5f",
   "metadata": {},
   "outputs": [
    {
     "ename": "IndexError",
     "evalue": "index 2 is out of bounds for axis 0 with size 2",
     "output_type": "error",
     "traceback": [
      "\u001b[1;31m---------------------------------------------------------------------------\u001b[0m",
      "\u001b[1;31mIndexError\u001b[0m                                Traceback (most recent call last)",
      "Input \u001b[1;32mIn [126]\u001b[0m, in \u001b[0;36m<cell line: 5>\u001b[1;34m()\u001b[0m\n\u001b[0;32m      2\u001b[0m ax\u001b[38;5;241m.\u001b[39mplot(df_index\u001b[38;5;241m.\u001b[39mindex, msdr_model_results\u001b[38;5;241m.\u001b[39msmoothed_marginal_probabilities[\u001b[38;5;241m0\u001b[39m])\n\u001b[0;32m      3\u001b[0m ax\u001b[38;5;241m.\u001b[39mset(title\u001b[38;5;241m=\u001b[39m\u001b[38;5;124m'\u001b[39m\u001b[38;5;124mSmoothed probability of regime 0\u001b[39m\u001b[38;5;124m'\u001b[39m)\n\u001b[1;32m----> 5\u001b[0m ax \u001b[38;5;241m=\u001b[39m \u001b[43maxes\u001b[49m\u001b[43m[\u001b[49m\u001b[38;5;241;43m2\u001b[39;49m\u001b[43m]\u001b[49m\n\u001b[0;32m      6\u001b[0m ax\u001b[38;5;241m.\u001b[39mplot(df_income\u001b[38;5;241m.\u001b[39mindex, msdr_model_results\u001b[38;5;241m.\u001b[39msmoothed_marginal_probabilities[\u001b[38;5;241m0\u001b[39m])\n\u001b[0;32m      7\u001b[0m ax\u001b[38;5;241m.\u001b[39mset(title\u001b[38;5;241m=\u001b[39m\u001b[38;5;124m'\u001b[39m\u001b[38;5;124mSmoothed probability of regime 0\u001b[39m\u001b[38;5;124m'\u001b[39m)\n",
      "\u001b[1;31mIndexError\u001b[0m: index 2 is out of bounds for axis 0 with size 2"
     ]
    }
   ],
   "source": [
    "ax = axes[1]\n",
    "ax.plot(df_index.index, msdr_model_results.smoothed_marginal_probabilities[0])\n",
    "ax.set(title='Smoothed probability of regime 0')\n",
    "\n",
    "ax = axes[2]\n",
    "ax.plot(df_income.index, msdr_model_results.smoothed_marginal_probabilities[0])\n",
    "ax.set(title='Smoothed probability of regime 0')\n",
    " \n",
    "ax = axes[3]\n",
    "ax.plot(df_sales.index, msdr_model_results.smoothed_marginal_probabilities[1])\n",
    "ax.set(title='Smoothed probability of regime 1 super-imposed on GDP based recession indicator (Orange)')\n",
    " \n",
    "plt.show()"
   ]
  },
  {
   "cell_type": "code",
   "execution_count": null,
   "id": "79118994",
   "metadata": {},
   "outputs": [],
   "source": []
  }
 ],
 "metadata": {
  "kernelspec": {
   "display_name": "Python 3 (ipykernel)",
   "language": "python",
   "name": "python3"
  },
  "language_info": {
   "codemirror_mode": {
    "name": "ipython",
    "version": 3
   },
   "file_extension": ".py",
   "mimetype": "text/x-python",
   "name": "python",
   "nbconvert_exporter": "python",
   "pygments_lexer": "ipython3",
   "version": "3.9.12"
  }
 },
 "nbformat": 4,
 "nbformat_minor": 5
}
